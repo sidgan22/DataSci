{
 "cells": [
  {
   "cell_type": "code",
   "execution_count": 39,
   "metadata": {},
   "outputs": [],
   "source": [
    "tr_data = [\n",
    "['sunny','hot','high','weak','no'],\n",
    "['sunny','hot','high','strong','no'],\n",
    "['overcast','hot','high','weak','yes'],\n",
    "['rain','mild','high','weak','yes'],\n",
    "['rain','cool','normal','weak','yes'],\n",
    "['rain','cool','normal','strong','no'],\n",
    "['overcast','cool','normal','strong','yes'],\n",
    "['sunny','mild','high','weak','no'],\n",
    "['sunny','cool','normal','weak','yes'],\n",
    "['rain','mild','normal','weak','yes'],\n",
    "['sunny','mild','normal','strong','yes'],\n",
    "['overcast','mild','high','strong','yes'],\n",
    "['overcast','hot','normal','weak','yes'],\n",
    "['rain','mild','high','strong','no'],\n",
    "]\n",
    "head = [\"outlook\",\"temperature\",\"humidity\",\"wind\",\"decision\"]"
   ]
  },
  {
   "cell_type": "code",
   "execution_count": 40,
   "metadata": {},
   "outputs": [],
   "source": [
    "def unique_vals(Data,col):\n",
    "    return set([row[col] for row in Data])"
   ]
  },
  {
   "cell_type": "code",
   "execution_count": 41,
   "metadata": {},
   "outputs": [
    {
     "data": {
      "text/plain": [
       "{'overcast', 'rain', 'sunny'}"
      ]
     },
     "execution_count": 41,
     "metadata": {},
     "output_type": "execute_result"
    }
   ],
   "source": [
    "unique_vals(tr_data,0)"
   ]
  },
  {
   "cell_type": "code",
   "execution_count": 42,
   "metadata": {},
   "outputs": [],
   "source": [
    "def class_cnt(Data):\n",
    "    cnt = {}\n",
    "    for row in Data:\n",
    "        label=row[-1]\n",
    "        if label not in cnt:\n",
    "            cnt[label] = 0\n",
    "        cnt[label] += 1\n",
    "    return cnt"
   ]
  },
  {
   "cell_type": "code",
   "execution_count": 43,
   "metadata": {},
   "outputs": [
    {
     "data": {
      "text/plain": [
       "{'no': 5, 'yes': 9}"
      ]
     },
     "execution_count": 43,
     "metadata": {},
     "output_type": "execute_result"
    }
   ],
   "source": [
    "class_cnt(tr_data)"
   ]
  },
  {
   "cell_type": "code",
   "execution_count": 44,
   "metadata": {},
   "outputs": [],
   "source": [
    "class Question:\n",
    "    def __init__(self,column,value):\n",
    "        self.column = column\n",
    "        self.value = value\n",
    "    def match(self,example):\n",
    "        val = example[self.column]\n",
    "        return val == self.value\n",
    "    def __repr__(self):\n",
    "        return \"IS %s %s %s ?\" %(head[self.column],\" == \",str(self.value))"
   ]
  },
  {
   "cell_type": "code",
   "execution_count": 45,
   "metadata": {},
   "outputs": [],
   "source": [
    "def partition(Data,question):\n",
    "    true_r,false_r = [],[]\n",
    "    for row in Data:\n",
    "        if(question.match(row)):\n",
    "            true_r.append(row)\n",
    "        else:\n",
    "            false_r.append(row)\n",
    "    return true_r,false_r"
   ]
  },
  {
   "cell_type": "code",
   "execution_count": 46,
   "metadata": {},
   "outputs": [
    {
     "name": "stdout",
     "output_type": "stream",
     "text": [
      "[]\n",
      "[['sunny', 'hot', 'high', 'weak', 'no'], ['sunny', 'hot', 'high', 'strong', 'no'], ['overcast', 'hot', 'high', 'weak', 'yes'], ['rain', 'mild', 'high', 'weak', 'yes'], ['rain', 'cool', 'normal', 'weak', 'yes'], ['rain', 'cool', 'normal', 'strong', 'no'], ['overcast', 'cool', 'normal', 'strong', 'yes'], ['sunny', 'mild', 'high', 'weak', 'no'], ['sunny', 'cool', 'normal', 'weak', 'yes'], ['rain', 'mild', 'normal', 'weak', 'yes'], ['sunny', 'mild', 'normal', 'strong', 'yes'], ['overcast', 'mild', 'high', 'strong', 'yes'], ['overcast', 'hot', 'normal', 'weak', 'yes'], ['rain', 'mild', 'high', 'strong', 'no']]\n"
     ]
    }
   ],
   "source": [
    "true_r,false_r = partition(tr_data,Question(0,\"rainy\"))\n",
    "print(true_r)\n",
    "print(false_r)\n",
    "q = Question(0,\"rainy\")"
   ]
  },
  {
   "cell_type": "code",
   "execution_count": 47,
   "metadata": {},
   "outputs": [],
   "source": [
    "def gini(Data):\n",
    "    counts = class_cnt(Data)\n",
    "    impurity=1\n",
    "    for lbl in counts:\n",
    "        p_of_lbl = counts[lbl]/float(len(Data))\n",
    "        impurity-=p_of_lbl**2\n",
    "    return impurity"
   ]
  },
  {
   "cell_type": "code",
   "execution_count": 48,
   "metadata": {},
   "outputs": [],
   "source": [
    "def info_gain(l,r,curr_uncertainity):\n",
    "    p = float(len(l)/(len(l)+len(r)))\n",
    "    return curr_uncertainity- p*gini(l)-(1-p)*gini(r)"
   ]
  },
  {
   "cell_type": "code",
   "execution_count": 49,
   "metadata": {},
   "outputs": [],
   "source": [
    "def find_best_split(Data):\n",
    "    best_gain=0\n",
    "    best_ques= None\n",
    "    curr_uncertainity = gini(Data)\n",
    "    n_features = len(Data[0])-1\n",
    "    for col in range(n_features):\n",
    "        values = unique_vals(Data,col)\n",
    "        for val in values:\n",
    "            question = Question(col,val)\n",
    "            true_r,false_r=partition(Data,question)\n",
    "            if(len(true_r)==0 or len(false_r)==0):\n",
    "                continue\n",
    "            gain = info_gain(true_r,false_r,curr_uncertainity)\n",
    "            if gain>=best_gain:\n",
    "                best_gain,best_ques = gain,question\n",
    "    return best_gain,best_ques"
   ]
  },
  {
   "cell_type": "code",
   "execution_count": 50,
   "metadata": {},
   "outputs": [],
   "source": [
    "class Leaf: \n",
    "    def __init__(self,Data):\n",
    "        self.predictions = class_cnt(Data)"
   ]
  },
  {
   "cell_type": "code",
   "execution_count": 51,
   "metadata": {},
   "outputs": [],
   "source": [
    "class Decision_Node:\n",
    "        def __init__(self,question,true_branch,false_branch):\n",
    "            self.question=question\n",
    "            self.true_branch=true_branch\n",
    "            self.false_branch=false_branch\n",
    "            #print(self.question)"
   ]
  },
  {
   "cell_type": "code",
   "execution_count": 52,
   "metadata": {},
   "outputs": [],
   "source": [
    "def build_tree(Data,i=0):\n",
    "    gain,question = find_best_split(Data)\n",
    "    if gain==0:\n",
    "        return Leaf(Data)\n",
    "    true_r,false_r = partition(Data,question)\n",
    "    true_branch=build_tree(true_r,i)\n",
    "    false_branch=build_tree(false_r,i)\n",
    "    return Decision_Node(question,true_branch,false_branch)"
   ]
  },
  {
   "cell_type": "code",
   "execution_count": 53,
   "metadata": {},
   "outputs": [],
   "source": [
    "def prnt_Tree(node,spacing=\"\"):\n",
    "    if isinstance(node,Leaf):\n",
    "        print(spacing+\"Predict\",node.predictions)\n",
    "        return\n",
    "    print(spacing+str(node.question))\n",
    "    print(spacing+\"--> True:\")\n",
    "    prnt_Tree(node.true_branch,spacing+\"\\t\")\n",
    "    print(spacing+\"--> False:\")\n",
    "    prnt_Tree(node.false_branch,spacing+\"\\t\")"
   ]
  },
  {
   "cell_type": "code",
   "execution_count": 54,
   "metadata": {},
   "outputs": [
    {
     "name": "stdout",
     "output_type": "stream",
     "text": [
      "IS outlook  ==  overcast ?\n",
      "--> True:\n",
      "\tPredict {'yes': 4}\n",
      "--> False:\n",
      "\tIS humidity  ==  high ?\n",
      "\t--> True:\n",
      "\t\tIS outlook  ==  sunny ?\n",
      "\t\t--> True:\n",
      "\t\t\tPredict {'no': 3}\n",
      "\t\t--> False:\n",
      "\t\t\tIS wind  ==  strong ?\n",
      "\t\t\t--> True:\n",
      "\t\t\t\tPredict {'no': 1}\n",
      "\t\t\t--> False:\n",
      "\t\t\t\tPredict {'yes': 1}\n",
      "\t--> False:\n",
      "\t\tIS wind  ==  strong ?\n",
      "\t\t--> True:\n",
      "\t\t\tIS temperature  ==  mild ?\n",
      "\t\t\t--> True:\n",
      "\t\t\t\tPredict {'yes': 1}\n",
      "\t\t\t--> False:\n",
      "\t\t\t\tPredict {'no': 1}\n",
      "\t\t--> False:\n",
      "\t\t\tPredict {'yes': 3}\n"
     ]
    }
   ],
   "source": [
    "my_tree = build_tree(tr_data,0)\n",
    "prnt_Tree(my_tree)"
   ]
  },
  {
   "cell_type": "code",
   "execution_count": 55,
   "metadata": {},
   "outputs": [],
   "source": [
    "def prnt_leaf(cnt):\n",
    "    total = sum(cnt.values())*1.0\n",
    "    probs = {}\n",
    "    for lbl in cnt.keys():\n",
    "        probs[lbl]=str(int(cnt[lbl]/total*100))+\"%\"\n",
    "    return probs"
   ]
  },
  {
   "cell_type": "code",
   "execution_count": 56,
   "metadata": {},
   "outputs": [],
   "source": [
    "def classify(row,node):\n",
    "    if isinstance(node,Leaf):\n",
    "        return node.predictions\n",
    "    if node.question.match(row):\n",
    "        return classify(row,node.true_branch)\n",
    "    else:\n",
    "        return classify(row,node.false_branch)"
   ]
  },
  {
   "cell_type": "code",
   "execution_count": 67,
   "metadata": {},
   "outputs": [],
   "source": [
    "test_data = [[\"overcast\",\"cool\",\"high\",\"strong\",\"no\"],[\"sunny\",\"cool\",\"normal\",\"strong\",\"yes\"]]"
   ]
  },
  {
   "cell_type": "code",
   "execution_count": 68,
   "metadata": {},
   "outputs": [
    {
     "name": "stdout",
     "output_type": "stream",
     "text": [
      "Actual: no. Prediction : {'yes': '100%'}\n",
      "Actual: yes. Prediction : {'no': '100%'}\n"
     ]
    }
   ],
   "source": [
    "for row in test_data:\n",
    "    print(\"Actual: %s. Prediction : %s\" %(row[-1],prnt_leaf(classify(row,my_tree))))"
   ]
  },
  {
   "cell_type": "code",
   "execution_count": null,
   "metadata": {},
   "outputs": [],
   "source": []
  }
 ],
 "metadata": {
  "kernelspec": {
   "display_name": "Python 3",
   "language": "python",
   "name": "python3"
  },
  "language_info": {
   "codemirror_mode": {
    "name": "ipython",
    "version": 3
   },
   "file_extension": ".py",
   "mimetype": "text/x-python",
   "name": "python",
   "nbconvert_exporter": "python",
   "pygments_lexer": "ipython3",
   "version": "3.5.6"
  }
 },
 "nbformat": 4,
 "nbformat_minor": 2
}
