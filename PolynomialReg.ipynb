{
 "cells": [
  {
   "cell_type": "code",
   "execution_count": 1,
   "metadata": {},
   "outputs": [],
   "source": [
    "import numpy as np\n",
    "import matplotlib.pyplot as plt"
   ]
  },
  {
   "cell_type": "code",
   "execution_count": 10,
   "metadata": {},
   "outputs": [],
   "source": [
    "#x=np.matrix([[1,1],[1,2],[1,3],[1,4],[1,5]])\n",
    "x=np.matrix([[1,1,1],[1,2,4],[1,3,9],[1,4,16],[1,5,25]])\n",
    "#x=np.matrix([[1,1,1,1],[1,2,4,16],[1,3,9,27],[1,4,16,64],[1,5,25,125]])"
   ]
  },
  {
   "cell_type": "code",
   "execution_count": 11,
   "metadata": {},
   "outputs": [
    {
     "data": {
      "text/plain": [
       "matrix([[ 1,  1,  1],\n",
       "        [ 1,  2,  4],\n",
       "        [ 1,  3,  9],\n",
       "        [ 1,  4, 16],\n",
       "        [ 1,  5, 25]])"
      ]
     },
     "execution_count": 11,
     "metadata": {},
     "output_type": "execute_result"
    }
   ],
   "source": [
    "x"
   ]
  },
  {
   "cell_type": "code",
   "execution_count": 12,
   "metadata": {},
   "outputs": [],
   "source": [
    "y=np.matrix([[5],[7],[10],[12],[20]])"
   ]
  },
  {
   "cell_type": "code",
   "execution_count": 13,
   "metadata": {},
   "outputs": [
    {
     "data": {
      "text/plain": [
       "matrix([[ 5],\n",
       "        [ 7],\n",
       "        [10],\n",
       "        [12],\n",
       "        [20]])"
      ]
     },
     "execution_count": 13,
     "metadata": {},
     "output_type": "execute_result"
    }
   ],
   "source": [
    "y"
   ]
  },
  {
   "cell_type": "code",
   "execution_count": 14,
   "metadata": {},
   "outputs": [],
   "source": [
    "xt=x.T\n",
    "xtx_inv=np.dot(xt,x).I\n",
    "theta=np.dot(xtx_inv,np.dot(xt,y))"
   ]
  },
  {
   "cell_type": "code",
   "execution_count": 15,
   "metadata": {},
   "outputs": [
    {
     "data": {
      "text/plain": [
       "matrix([[ 5.8       ],\n",
       "        [-1.21428571],\n",
       "        [ 0.78571429]])"
      ]
     },
     "execution_count": 15,
     "metadata": {},
     "output_type": "execute_result"
    }
   ],
   "source": [
    "theta"
   ]
  },
  {
   "cell_type": "code",
   "execution_count": 16,
   "metadata": {},
   "outputs": [
    {
     "data": {
      "image/png": "[encoded data removed]",
      "text/plain": [
       "<Figure size 432x288 with 1 Axes>"
      ]
     },
     "metadata": {
      "needs_background": "light"
     },
     "output_type": "display_data"
    }
   ],
   "source": [
    "p_y = np.dot(x,theta)\n",
    "plt.scatter(np.array(x[:,1]),np.array(y[:,0]),color='b')\n",
    "plt.plot(x[:,1],p_y[:,0],color='g')\n",
    "plt.scatter([i[0] for i in x[:,1].tolist()],[j[0] for j in p_y[:,0].tolist()],color='r')\n",
    "plt.show()"
   ]
  },
  {
   "cell_type": "code",
   "execution_count": null,
   "metadata": {},
   "outputs": [],
   "source": []
  }
 ],
 "metadata": {
  "kernelspec": {
   "display_name": "Python 3",
   "language": "python",
   "name": "python3"
  },
  "language_info": {
   "codemirror_mode": {
    "name": "ipython",
    "version": 3
   },
   "file_extension": ".py",
   "mimetype": "text/x-python",
   "name": "python",
   "nbconvert_exporter": "python",
   "pygments_lexer": "ipython3",
   "version": "3.5.6"
  }
 },
 "nbformat": 4,
 "nbformat_minor": 2
}
